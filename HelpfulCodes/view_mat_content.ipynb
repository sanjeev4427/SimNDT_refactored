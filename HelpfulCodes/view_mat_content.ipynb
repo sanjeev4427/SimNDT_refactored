{
 "cells": [
  {
   "cell_type": "code",
   "execution_count": 2,
   "metadata": {},
   "outputs": [
    {
     "name": "stdout",
     "output_type": "stream",
     "text": [
      "dict_keys(['__header__', '__version__', '__globals__', 'Info', 'GeometricObjects', 'Scenario', 'Receivers', 'Signal', 'Simulation', 'Boundaries', 'Source', 'Materials', 'Inspection', 'Transducers'])\n"
     ]
    }
   ],
   "source": [
    "import scipy.io\n",
    "\n",
    "# Load the .mat file\n",
    "# filename = r\"C:\\Users\\Kumar\\Downloads\\test.mat\"\n",
    "filename_gpu_opencl = r\"C:\\Users\\Kumar\\Nextcloud\\Work\\GUW\\sim_ndt\\batch_processing_simulator\\saved simulations\\test_opencl_gpu.mat\" \n",
    "data = scipy.io.loadmat(filename_gpu_opencl)\n",
    "\n",
    "# View the available variables in the file\n",
    "print(data.keys())\n"
   ]
  },
  {
   "cell_type": "code",
   "execution_count": 16,
   "metadata": {},
   "outputs": [
    {
     "name": "stdout",
     "output_type": "stream",
     "text": [
      "array([[(array(['Transmission'], dtype='<U12'), array([[0.        ],\n",
      "               [0.        ],\n",
      "               [0.        ],\n",
      "               ...,\n",
      "               [0.03577004],\n",
      "               [0.03722149],\n",
      "               [0.03861603]], dtype=float32))                       ]],\n",
      "      dtype=[('method', 'O'), ('receiver_signals', 'O')])\n"
     ]
    }
   ],
   "source": [
    "import pprint\n",
    "import numpy as np\n",
    "# pprint.pprint(data['Inspection'])\n",
    "# pprint.pprint(data['Source'])\n",
    "# pprint.pprint(data['Signal'])\n",
    "# pprint.pprint(data['Simulation'])\n",
    "pprint.pprint(data['Receivers'])\n",
    "# pprint.pprint(data['Boundaries'][0][0])\n",
    "# pprint.pprint(data['Scenario'][\"I\"])\n",
    "# SimNDT_Scenario = data['Scenario']\n",
    "# pprint.pprint(data['Scenario'])\n",
    "# print(np.unique(SimNDT_Scenario[\"I\"][0][0]))\n",
    "# print(np.unique(SimNDT_Scenario[\"Iabs\"][0][0]))\n",
    "# print(np.unique(SimNDT_Scenario[\"Io\"][0][0]))\n",
    "# np.unique(data['Scenario'][\"I\"][0][0])\n",
    "# data['Scenario'][\"I\"][0][0].shape\n",
    "# pprint.pprint(data['__globals__'])\n",
    "# pprint.pprint(data['Simulation']['dx'])"
   ]
  },
  {
   "cell_type": "code",
   "execution_count": 40,
   "metadata": {},
   "outputs": [
    {
     "data": {
      "text/plain": [
       "array([[0, 0, 0, ..., 0, 0, 0],\n",
       "       [0, 0, 0, ..., 0, 0, 0],\n",
       "       [0, 0, 0, ..., 0, 0, 0],\n",
       "       ...,\n",
       "       [0, 0, 0, ..., 0, 0, 0],\n",
       "       [0, 0, 0, ..., 0, 0, 0],\n",
       "       [0, 0, 0, ..., 0, 0, 0]], dtype=uint8)"
      ]
     },
     "execution_count": 40,
     "metadata": {},
     "output_type": "execute_result"
    }
   ],
   "source": [
    "data['Scenario'][\"I\"][0][0]"
   ]
  },
  {
   "cell_type": "code",
   "execution_count": 36,
   "metadata": {},
   "outputs": [
    {
     "data": {
      "text/plain": [
       "(100, 100)"
      ]
     },
     "execution_count": 36,
     "metadata": {},
     "output_type": "execute_result"
    }
   ],
   "source": [
    "reshaped_array = np.ones((100, 100), dtype=np.uint8)\n",
    "reshaped_array.shape"
   ]
  },
  {
   "cell_type": "code",
   "execution_count": 8,
   "metadata": {},
   "outputs": [
    {
     "name": "stdout",
     "output_type": "stream",
     "text": [
      "array([[(array([[5.]]), array([[2.]]), array(['ellipse'], dtype='<U7'), array([[0.]]), array([[50.]]), array([[40.]]), array([[50.]]))]],\n",
      "      dtype=[('a', 'O'), ('b', 'O'), ('Name', 'O'), ('Label', 'O'), ('y0', 'O'), ('theta', 'O'), ('x0', 'O')])\n"
     ]
    }
   ],
   "source": [
    "import pprint\n",
    "# pprint.pprint(data['Materials'][0][0])\n",
    "# pprint.pprint(data['Simulation'])\n",
    "# pprint.pprint(data['Transducers'])  \n",
    "pprint.pprint(data['GeometricObjects'][0][0])  "
   ]
  },
  {
   "cell_type": "code",
   "execution_count": null,
   "metadata": {},
   "outputs": [],
   "source": [
    "print(data)"
   ]
  },
  {
   "cell_type": "code",
   "execution_count": 39,
   "metadata": {},
   "outputs": [
    {
     "name": "stdout",
     "output_type": "stream",
     "text": [
      "Material 1 attributes:\n",
      "  C22: 1.0864e+11\n",
      "  C44: 38700000000.0\n",
      "  Name: Water\n",
      "  VL: 6319.90320105\n",
      "  Label: 0\n",
      "  VT: 3771.99432349\n",
      "  Damping: 0\n",
      "  Rho: 2720.0\n",
      "  C12: 31240000000.0\n",
      "  C11: 1.0864e+11\n",
      "  Eta_s: 1e-30\n",
      "  Eta_v: 1e-30\n",
      "\n",
      "\n",
      "Material 2 attributes:\n",
      "  C22: 1.0864e+11\n",
      "  C44: 38700000000.0\n",
      "  Name: Water\n",
      "  VL: 6319.90320105\n",
      "  Label: 40\n",
      "  VT: 3771.99432349\n",
      "  Damping: 0\n",
      "  Rho: 2720.0\n",
      "  C12: 31240000000.0\n",
      "  C11: 1.0864e+11\n",
      "  Eta_s: 1e-30\n",
      "  Eta_v: 1e-30\n",
      "\n",
      "\n",
      "Material 3 attributes:\n",
      "  C22: 77600000000.0\n",
      "  C44: 6590000000.0\n",
      "  Name: Water\n",
      "  VL: 5560.24591735\n",
      "  Label: 80\n",
      "  VT: 1620.33885591\n",
      "  Damping: 0\n",
      "  Rho: 2510.0\n",
      "  C12: 64420000000.0\n",
      "  C11: 77600000000.0\n",
      "  Eta_s: 1e-30\n",
      "  Eta_v: 1e-30\n",
      "\n",
      "\n",
      "Material 4 attributes:\n",
      "  C22: 1.0864e+11\n",
      "  C44: 38700000000.0\n",
      "  Name: Water\n",
      "  VL: 6319.90320105\n",
      "  Label: 120\n",
      "  VT: 3771.99432349\n",
      "  Damping: 0\n",
      "  Rho: 2720.0\n",
      "  C12: 31240000000.0\n",
      "  C11: 1.0864e+11\n",
      "  Eta_s: 1e-30\n",
      "  Eta_v: 1e-30\n",
      "\n",
      "\n"
     ]
    }
   ],
   "source": [
    "from scipy.io import savemat, loadmat\n",
    "from SimNDT.gui import HelperMethods\n",
    "from SimNDT.core.material import Material\n",
    "data2load = loadmat(filename, squeeze_me=True, struct_as_record=False)\n",
    "\n",
    "# if \"Info\" in data2load:\n",
    "#     SimNDT_Info = HelperMethods.mat2Obj(data2load[\"Info\"], Info())\n",
    "\n",
    "# if \"Scenario\" in data2load:\n",
    "#     Width = getattr(data2load[\"Scenario\"], 'Width')\n",
    "#     Height = getattr(data2load[\"Scenario\"], 'Height')\n",
    "#     Pixel_mm = getattr(data2load[\"Scenario\"], 'Pixel_mm')\n",
    "#     Label = getattr(data2load[\"Scenario\"], 'Label')\n",
    "#     self.SimNDT_Scenario = Scenario(Width=Width, Height=Height, Pixel_mm=Pixel_mm, Label=Label)\n",
    "#     self.SimNDT_Scenario = HelperMethods.mat2Obj(data2load[\"Scenario\"], self.SimNDT_Scenario)\n",
    "\n",
    "SimNDT_Materials1 = HelperMethods.loadDataFromList(data2load, 'Materials', Material())\n",
    "for i, material in enumerate(SimNDT_Materials1):\n",
    "    print(\"Material {} attributes:\".format(i+1))\n",
    "    for attr, value in material.__dict__.items():\n",
    "        print(\"  {}: {}\".format(attr, value))\n",
    "    print(\"\\n\")\n"
   ]
  },
  {
   "cell_type": "code",
   "execution_count": 31,
   "metadata": {},
   "outputs": [
    {
     "name": "stdout",
     "output_type": "stream",
     "text": [
      "[Material:, Material:, Material:, Material:]\n"
     ]
    }
   ],
   "source": [
    "print(SimNDT_Materials)"
   ]
  },
  {
   "cell_type": "code",
   "execution_count": null,
   "metadata": {},
   "outputs": [
    {
     "name": "stdout",
     "output_type": "stream",
     "text": [
      "Material 1 attributes:\n",
      "  C22: 1.0864e+11\n",
      "  C44: 38700000000.0\n",
      "  Name: Water\n",
      "  VL: 6319.90320105\n",
      "  Label: 0\n",
      "  VT: 3771.99432349\n",
      "  Damping: 0\n",
      "  Rho: 2720.0\n",
      "  C12: 31240000000.0\n",
      "  C11: 1.0864e+11\n",
      "  Eta_s: 1e-30\n",
      "  Eta_v: 1e-30\n",
      "\n",
      "\n",
      "Material 2 attributes:\n",
      "  C22: 1.0864e+11\n",
      "  C44: 38700000000.0\n",
      "  Name: Water\n",
      "  VL: 6319.90320105\n",
      "  Label: 40\n",
      "  VT: 3771.99432349\n",
      "  Damping: 0\n",
      "  Rho: 2720.0\n",
      "  C12: 31240000000.0\n",
      "  C11: 1.0864e+11\n",
      "  Eta_s: 1e-30\n",
      "  Eta_v: 1e-30\n",
      "\n",
      "\n",
      "Material 3 attributes:\n",
      "  C22: 77600000000.0\n",
      "  C44: 6590000000.0\n",
      "  Name: Water\n",
      "  VL: 5560.24591735\n",
      "  Label: 80\n",
      "  VT: 1620.33885591\n",
      "  Damping: 0\n",
      "  Rho: 2510.0\n",
      "  C12: 64420000000.0\n",
      "  C11: 77600000000.0\n",
      "  Eta_s: 1e-30\n",
      "  Eta_v: 1e-30\n",
      "\n",
      "\n",
      "Material 4 attributes:\n",
      "  C22: 1.0864e+11\n",
      "  C44: 38700000000.0\n",
      "  Name: Water\n",
      "  VL: 6319.90320105\n",
      "  Label: 120\n",
      "  VT: 3771.99432349\n",
      "  Damping: 0\n",
      "  Rho: 2720.0\n",
      "  C12: 31240000000.0\n",
      "  C11: 1.0864e+11\n",
      "  Eta_s: 1e-30\n",
      "  Eta_v: 1e-30\n",
      "\n",
      "\n"
     ]
    }
   ],
   "source": []
  }
 ],
 "metadata": {
  "kernelspec": {
   "display_name": "base",
   "language": "python",
   "name": "python3"
  },
  "language_info": {
   "codemirror_mode": {
    "name": "ipython",
    "version": 3
   },
   "file_extension": ".py",
   "mimetype": "text/x-python",
   "name": "python",
   "nbconvert_exporter": "python",
   "pygments_lexer": "ipython3",
   "version": "3.11.5"
  }
 },
 "nbformat": 4,
 "nbformat_minor": 2
}
